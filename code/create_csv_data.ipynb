{
 "cells": [
  {
   "cell_type": "markdown",
   "id": "7e0816f6",
   "metadata": {},
   "source": [
    "# Import Package"
   ]
  },
  {
   "cell_type": "code",
   "execution_count": null,
   "id": "1e705b18",
   "metadata": {},
   "outputs": [],
   "source": [
    "from functions.ca_model import simulate_tumor_growth_with_matrices\n",
    "from functions.read_data import *\n",
    "import zipfile\n",
    "\n",
    "GENERATIONS = 500"
   ]
  },
  {
   "cell_type": "markdown",
   "id": "7820b20c",
   "metadata": {},
   "source": [
    "# Create the data in csv file"
   ]
  },
  {
   "cell_type": "code",
   "execution_count": null,
   "id": "0ced7f7f",
   "metadata": {},
   "outputs": [],
   "source": [
    "critical_points_by_tau = []\n",
    "taus = []\n",
    "final_value = []\n",
    "\n",
    "# Specify the CSV file name\n",
    "history_csv_file = '../data/history_data.csv'\n",
    "matrices_csv_file = '../data/matrices_data.csv'\n",
    "\n",
    "# Open the CSV file outside the loop and write the column headers\n",
    "with open(history_csv_file, mode='w', newline='', encoding='utf-8') as file:\n",
    "    writer = csv.DictWriter(file, fieldnames=['Nc', 'Ne', 'Nd', 'R', 'dense'])\n",
    "    writer.writeheader()\n",
    "    \n",
    "# Clear the contents of matrices_csv_file\n",
    "with open(matrices_csv_file, mode='w', newline='', encoding='utf-8') as file:\n",
    "    pass  # This will clear the file\n",
    "\n",
    "# Loop to generate the history array and write it to CSV\n",
    "for tau in range(0, 100):\n",
    "    history, matrices = simulate_tumor_growth_with_matrices(tau, GENERATIONS, ROWS, COLS, PHI, RHO, K1, K2, K3, K4, CANCER_INIT_POSITIONS, ORIGIN)\n",
    "    \n",
    "    # Append data to the CSV file in each iteration\n",
    "    with open(history_csv_file, mode='a', newline='', encoding='utf-8') as file:\n",
    "        writer = csv.DictWriter(file, fieldnames=['Nc', 'Ne', 'Nd', 'R', 'dense'])\n",
    "        for entry in history:\n",
    "            writer.writerow(history[entry])\n",
    "            \n",
    "    # Open the CSV file and prepare for writing\n",
    "    with open(matrices_csv_file, mode='a', newline='', encoding='utf-8') as file:\n",
    "        writer = csv.writer(file)\n",
    "        # Flatten each matrix and write to CSV\n",
    "        for M in matrices:\n",
    "            flattened_matrix = M.flatten()\n",
    "            writer.writerow(flattened_matrix.tolist())  # Convert to list and write\n"
   ]
  },
  {
   "cell_type": "markdown",
   "id": "43b54355",
   "metadata": {},
   "source": [
    "# Read cell nr. history data"
   ]
  },
  {
   "cell_type": "code",
   "execution_count": null,
   "id": "01efb1e8",
   "metadata": {},
   "outputs": [],
   "source": [
    "history_csv_file = '../data/history_data.csv'\n",
    "history_array = []\n",
    "history_array = read_history(history_array, history_csv_file)"
   ]
  },
  {
   "cell_type": "code",
   "execution_count": null,
   "id": "4124c68c",
   "metadata": {},
   "outputs": [],
   "source": [
    "\"\"\"\n",
    "This loop prints for every value of tau and timestep:\n",
    "- Nc: nr. of cancer cells\n",
    "- Ne: nr. of effector cells\n",
    "- Nd: nr. of dead cells\n",
    "- R:  avg distance of cancer cells to center of lattice\n",
    "- dense: above or below critical rho\n",
    "\"\"\"\n",
    "\n",
    "for tau in range(0, 100):\n",
    "    for g in range(0, GENERATIONS):\n",
    "        print(history_array[tau][g])"
   ]
  },
  {
   "cell_type": "markdown",
   "metadata": {},
   "source": [
    "# Read simulation matrices data"
   ]
  },
  {
   "cell_type": "code",
   "execution_count": null,
   "id": "ebedc27c",
   "metadata": {},
   "outputs": [],
   "source": [
    "\"\"\"\n",
    "Unpack zip file and load in data.\n",
    "\"\"\"\n",
    "# define file path and folder to extract in\n",
    "matrix_zip_path = '../data/matrices_data.zip'\n",
    "extraction_folder = '../data/'\n",
    "\n",
    "with zipfile.ZipFile(matrix_zip_path, 'r') as zip_ref:\n",
    "    # Extract all the contents into the target directory\n",
    "    zip_ref.extractall(extraction_folder)\n",
    "\n",
    "matrices_csv_file = '../data/matrices_data.csv'\n",
    "all_M = []\n",
    "\n",
    "GENERATIONS = 500\n",
    "ROWS = COLS = 101\n",
    "\n",
    "all_M = read_matrix(ROWS, COLS, all_M, GENERATIONS, matrices_csv_file)"
   ]
  },
  {
   "cell_type": "code",
   "execution_count": null,
   "id": "0ffd5e05",
   "metadata": {},
   "outputs": [],
   "source": [
    "\"\"\"This loop prints the configuration matrix at every timestep for all different values of tau.\"\"\"\n",
    "\n",
    "for tau in range(0, 100):\n",
    "    for g in range(0, GENERATIONS):\n",
    "        print(all_M[tau][g])"
   ]
  }
 ],
 "metadata": {
  "kernelspec": {
   "display_name": "Python 3 (ipykernel)",
   "language": "python",
   "name": "python3"
  },
  "language_info": {
   "codemirror_mode": {
    "name": "ipython",
    "version": 3
   },
   "file_extension": ".py",
   "mimetype": "text/x-python",
   "name": "python",
   "nbconvert_exporter": "python",
   "pygments_lexer": "ipython3",
   "version": "3.11.4"
  }
 },
 "nbformat": 4,
 "nbformat_minor": 5
}
