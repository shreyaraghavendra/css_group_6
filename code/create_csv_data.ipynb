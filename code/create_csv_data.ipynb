{
 "cells": [
  {
   "cell_type": "markdown",
   "id": "7e0816f6",
   "metadata": {},
   "source": [
    "# Import Package"
   ]
  },
  {
   "cell_type": "code",
   "execution_count": 1,
   "id": "1e705b18",
   "metadata": {},
   "outputs": [],
   "source": [
    "from ca_model import * \n",
    "import matplotlib.pyplot as plt\n",
    "import numpy as np\n",
    "from scipy.optimize import curve_fit\n",
    "import csv"
   ]
  },
  {
   "cell_type": "code",
   "execution_count": 2,
   "id": "b7a5d49b",
   "metadata": {},
   "outputs": [],
   "source": [
    "GENERATIONS = 500"
   ]
  },
  {
   "cell_type": "markdown",
   "id": "7820b20c",
   "metadata": {},
   "source": [
    "# Create the data in csv file"
   ]
  },
  {
   "cell_type": "code",
   "execution_count": 30,
   "id": "05505c45",
   "metadata": {},
   "outputs": [],
   "source": [
    "def simulate_tumor_growth_csv(time_delay, generations, rows, cols, phi, rho, k1, k2, k3, k4, cancer_init_positions, origin):\n",
    "    history = {}\n",
    "    matrices = []\n",
    "    M = initialize_grid(rows, cols, cancer_init_positions)\n",
    "\n",
    "    for g in range(generations):\n",
    "        M = simulate_tumor_growth_one_step(M, g, time_delay, history, phi, rho, k1, k2, k3, k4, origin, rows, cols)\n",
    "        matrices.append(M.copy())\n",
    "\n",
    "    return history, matrices"
   ]
  },
  {
   "cell_type": "code",
   "execution_count": 82,
   "id": "0ced7f7f",
   "metadata": {},
   "outputs": [],
   "source": [
    "import csv\n",
    "import numpy as np\n",
    "from scipy.signal import find_peaks\n",
    "\n",
    "critical_points_by_tau = []\n",
    "taus = []\n",
    "final_value = []\n",
    "\n",
    "# Specify the CSV file name\n",
    "history_csv_file = '../data/history_data.csv'\n",
    "matrices_csv_file = '../data/matrices_data.csv'\n",
    "\n",
    "# Open the CSV file outside the loop and write the column headers\n",
    "with open(history_csv_file, mode='w', newline='', encoding='utf-8') as file:\n",
    "    writer = csv.DictWriter(file, fieldnames=['Nc', 'Ne', 'Nd', 'R', 'dense'])\n",
    "    writer.writeheader()\n",
    "    \n",
    "# Clear the contents of matrices_csv_file\n",
    "with open(matrices_csv_file, mode='w', newline='', encoding='utf-8') as file:\n",
    "    pass  # This will clear the file\n",
    "\n",
    "# Loop to generate the history array and write it to CSV\n",
    "for tau in range(0, 100):\n",
    "    history, matrices = simulate_tumor_growth_csv(tau, GENERATIONS, ROWS, COLS, PHI, RHO, K1, K2, K3, K4, CANCER_INIT_POSITIONS, ORIGIN)\n",
    "    \n",
    "    # Append data to the CSV file in each iteration\n",
    "    with open(history_csv_file, mode='a', newline='', encoding='utf-8') as file:\n",
    "        writer = csv.DictWriter(file, fieldnames=['Nc', 'Ne', 'Nd', 'R', 'dense'])\n",
    "        for entry in history:\n",
    "            writer.writerow(history[entry])\n",
    "            \n",
    "    # Open the CSV file and prepare for writing\n",
    "    with open(matrices_csv_file, mode='a', newline='', encoding='utf-8') as file:\n",
    "        writer = csv.writer(file)\n",
    "        # Flatten each matrix and write to CSV\n",
    "        for M in matrices:\n",
    "            flattened_matrix = M.flatten()\n",
    "            writer.writerow(flattened_matrix.tolist())  # Convert to list and write\n"
   ]
  },
  {
   "cell_type": "markdown",
   "id": "43b54355",
   "metadata": {},
   "source": [
    "# Read Data and Show How to Use This Two Arrays"
   ]
  },
  {
   "cell_type": "code",
   "execution_count": 3,
   "id": "01efb1e8",
   "metadata": {},
   "outputs": [
    {
     "name": "stdout",
     "output_type": "stream",
     "text": [
      "Importing completed, there are 100 history entries in total\n"
     ]
    }
   ],
   "source": [
    "history_csv_file = '../data/history_data.csv'\n",
    "history_array = []\n",
    "\n",
    "history_array = read_history(history_array, history_csv_file)"
   ]
  },
  {
   "cell_type": "code",
   "execution_count": null,
   "id": "4124c68c",
   "metadata": {},
   "outputs": [],
   "source": [
    "\"\"\"used in this way:\"\"\"\n",
    "\n",
    "for tau in range(0, 100):\n",
    "    for g in range(0, GENERATIONS):\n",
    "        print(history_array[tau][g])"
   ]
  },
  {
   "cell_type": "code",
   "execution_count": 2,
   "id": "ebedc27c",
   "metadata": {},
   "outputs": [
    {
     "name": "stdout",
     "output_type": "stream",
     "text": [
      "Total tau reconstructed: 100\n"
     ]
    }
   ],
   "source": [
    "matrices_csv_file = '../data/matrices_data.csv'\n",
    "all_M = []\n",
    "\n",
    "GENERATIONS = 500\n",
    "ROWS = COLS = 101\n",
    "\n",
    "all_M = read_matrix(ROWS, COLS, all_M, GENERATIONS, matrices_csv_file)"
   ]
  },
  {
   "cell_type": "code",
   "execution_count": null,
   "id": "0ffd5e05",
   "metadata": {},
   "outputs": [],
   "source": [
    "\"\"\"used in this way:\"\"\"\n",
    "\n",
    "for tau in range(0, 100):\n",
    "    for g in range(0, GENERATIONS):\n",
    "        print(all_M[tau][g])"
   ]
  }
 ],
 "metadata": {
  "kernelspec": {
   "display_name": "Python 3 (ipykernel)",
   "language": "python",
   "name": "python3"
  },
  "language_info": {
   "codemirror_mode": {
    "name": "ipython",
    "version": 3
   },
   "file_extension": ".py",
   "mimetype": "text/x-python",
   "name": "python",
   "nbconvert_exporter": "python",
   "pygments_lexer": "ipython3",
   "version": "3.11.4"
  }
 },
 "nbformat": 4,
 "nbformat_minor": 5
}
