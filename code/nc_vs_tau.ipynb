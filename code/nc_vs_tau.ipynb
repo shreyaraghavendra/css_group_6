{
 "cells": [
  {
   "cell_type": "markdown",
   "metadata": {},
   "source": [
    "# Import Package and Data"
   ]
  },
  {
   "cell_type": "code",
   "execution_count": null,
   "metadata": {},
   "outputs": [],
   "source": [
    "from functions.read_data import read_history\n",
    "from functions.ca_model import simulate_tumor_growth\n",
    "from functions.analyze import delay_coordinates_reconstruction\n",
    "import matplotlib.pyplot as plt\n",
    "from matplotlib import rcParams\n",
    "\n",
    "rcParams['font.family'] = \"serif\"     \n",
    "rcParams['font.size']=12\n",
    "\n",
    "GENERATIONS = 500\n",
    "K1, K2 = 0.74, 0.2"
   ]
  },
  {
   "cell_type": "code",
   "execution_count": null,
   "metadata": {},
   "outputs": [],
   "source": [
    "history_csv_file = '../data/history_data.csv'\n",
    "history_array = []\n",
    "history_array = read_history(history_array, history_csv_file)"
   ]
  },
  {
   "cell_type": "markdown",
   "metadata": {},
   "source": [
    "## Behaviour of Number of Cancerous cells with increasing time-delay"
   ]
  },
  {
   "cell_type": "code",
   "execution_count": null,
   "metadata": {},
   "outputs": [],
   "source": [
    "generations = list(range(GENERATIONS))\n",
    "Nc_with_delay_10 = [int(history_array[10][g]['Nc']) for g in generations]\n",
    "Nc_with_delay_16 = [int(history_array[16][g]['Nc']) for g in generations]\n",
    "Nc_without_delay = [int(history_array[0][g]['Nc']) for g in generations]\n",
    "Nc_with_delay_40 = [int(history_array[40][g]['Nc']) for g in generations]\n",
    "Nc_with_delay_60 = [int(history_array[60][g]['Nc']) for g in generations]\n",
    "\n",
    "\n",
    "plt.figure(figsize=(10, 6))\n",
    "plt.plot(generations, Nc_without_delay, label=r'$\\tau$ = 0')\n",
    "plt.plot(generations, Nc_with_delay_10, label=r'$\\tau$ = 10')\n",
    "plt.plot(generations, Nc_with_delay_16, label=r'$\\tau$ = 16')\n",
    "plt.plot(generations, Nc_with_delay_40, label=r'$\\tau$ = 40')\n",
    "plt.plot(generations, Nc_with_delay_60, label=r'$\\tau$ = 60')\n",
    "plt.xlabel('Generation')\n",
    "plt.ylabel(r'Number of Cancer Cells ($N_c$)')\n",
    "plt.title(r'Time progression of $N_c$ With and Without Time Delay')\n",
    "plt.legend()\n",
    "plt.show()\n"
   ]
  },
  {
   "cell_type": "markdown",
   "metadata": {},
   "source": [
    "## Delay-coordinate Reconstruction"
   ]
  },
  {
   "cell_type": "code",
   "execution_count": null,
   "metadata": {},
   "outputs": [],
   "source": [
    "GENERATIONS = 1500\n",
    "\n",
    "# time delay = 0\n",
    "history_no_delay = simulate_tumor_growth(0, GENERATIONS, K1, K2)\n",
    "\n",
    "# time delay = 20\n",
    "history_delay = simulate_tumor_growth(20, GENERATIONS, K1, K2)\n",
    "\n",
    "generations = list(range(GENERATIONS))\n",
    "Nc_with_delay = [history_delay[g]['Nc'] for g in generations]\n",
    "Nc_without_delay = [history_no_delay[g]['Nc'] for g in generations]\n",
    "\n",
    "Nc_with_delay = Nc_with_delay[800:-1]\n",
    "reconstructed_data_with_delay = delay_coordinates_reconstruction(Nc_with_delay, 1, 2)\n",
    "\n",
    "Nc_without_delay = Nc_without_delay[800:-1]\n",
    "reconstructed_data_without_delay = delay_coordinates_reconstruction(Nc_without_delay, 1, 2)\n",
    "\n",
    "plt.figure(figsize=(10, 6))\n",
    "plt.plot(reconstructed_data_with_delay[:, 1], reconstructed_data_with_delay[:, 0], label = \"Delay-coordinate Reconstruction with delay\")\n",
    "plt.plot(reconstructed_data_without_delay[:, 1], reconstructed_data_without_delay[:, 0], label = \"Delay-coordinate Reconstruction without delay\")\n",
    "\n",
    "plt.xlabel('Nc(t)')\n",
    "plt.ylabel('Nc(t-1)')\n",
    "plt.title('Delay-coordinate Reconstruction of Nc ')\n",
    "plt.legend()\n",
    "plt.show()"
   ]
  },
  {
   "cell_type": "code",
   "execution_count": null,
   "metadata": {},
   "outputs": [],
   "source": []
  }
 ],
 "metadata": {
  "kernelspec": {
   "display_name": "Python 3 (ipykernel)",
   "language": "python",
   "name": "python3"
  },
  "language_info": {
   "codemirror_mode": {
    "name": "ipython",
    "version": 3
   },
   "file_extension": ".py",
   "mimetype": "text/x-python",
   "name": "python",
   "nbconvert_exporter": "python",
   "pygments_lexer": "ipython3",
   "version": "3.9.12"
  }
 },
 "nbformat": 4,
 "nbformat_minor": 2
}
