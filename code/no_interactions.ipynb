{
 "cells": [
  {
   "cell_type": "markdown",
   "metadata": {},
   "source": [
    "## Imports"
   ]
  },
  {
   "cell_type": "code",
   "execution_count": null,
   "metadata": {},
   "outputs": [],
   "source": [
    "from functions.mean_field import *"
   ]
  },
  {
   "cell_type": "markdown",
   "metadata": {},
   "source": [
    "# Simulations without neighbor interactions "
   ]
  },
  {
   "cell_type": "code",
   "execution_count": null,
   "metadata": {},
   "outputs": [],
   "source": [
    "history_with_delay = simulate_tumor_growth(10, 50)\n",
    "history_without_delay = simulate_tumor_growth(0, 50)\n",
    "\n",
    "Nc_with_delay_15 = [int(history_with_delay[g]['Nc']) for g in range(50)]\n",
    "Nc_without_delay = [int(history_without_delay[g]['Nc']) for g in range(50)]\n",
    "\n",
    "plt.figure(figsize=(10, 6))\n",
    "plt.plot(range(50), Nc_with_delay_15, label='With Delay = 15')\n",
    "plt.plot(range(50), Nc_without_delay, label='Without Delay')\n",
    "plt.xlabel('Generations')\n",
    "plt.ylabel('Density of Cancer Cells (Nc)')\n",
    "plt.title('Nc vs Generations With and Without Time Delay')\n",
    "plt.legend()\n",
    "plt.show()"
   ]
  }
 ],
 "metadata": {
  "kernelspec": {
   "display_name": "Python 3",
   "language": "python",
   "name": "python3"
  },
  "language_info": {
   "codemirror_mode": {
    "name": "ipython",
    "version": 3
   },
   "file_extension": ".py",
   "mimetype": "text/x-python",
   "name": "python",
   "nbconvert_exporter": "python",
   "pygments_lexer": "ipython3",
   "version": "3.7.6"
  }
 },
 "nbformat": 4,
 "nbformat_minor": 2
}
