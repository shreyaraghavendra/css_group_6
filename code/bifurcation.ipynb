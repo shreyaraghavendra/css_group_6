{
 "cells": [
  {
   "cell_type": "markdown",
   "id": "df7a233d",
   "metadata": {},
   "source": [
    "# Imports"
   ]
  },
  {
   "cell_type": "code",
   "execution_count": null,
   "id": "b769acea",
   "metadata": {},
   "outputs": [],
   "source": [
    "import matplotlib.pyplot as plt\n",
    "from matplotlib import rcParams\n",
    "from mpl_toolkits.mplot3d import Axes3D\n",
    "import numpy as np\n",
    "import seaborn as sns\n",
    "import plotly.graph_objs as go\n",
    "import plotly.io as pio\n",
    "pio.renderers.default = 'notebook'\n",
    "\n",
    "from scipy.signal import find_peaks\n",
    "from scipy.signal import savgol_filter\n",
    "\n",
    "from functions.read_data import read_history\n",
    "\n",
    "# graph font settings\n",
    "rcParams['font.family'] = \"serif\"     \n",
    "rcParams['font.size']=12\n",
    "\n",
    "generations = 500\n",
    "tau_values = 100"
   ]
  },
  {
   "cell_type": "markdown",
   "id": "2f1ce6d6",
   "metadata": {},
   "source": [
    "# Load in simulation data"
   ]
  },
  {
   "cell_type": "code",
   "execution_count": null,
   "id": "6d7a2a3c",
   "metadata": {},
   "outputs": [],
   "source": [
    "# Store data in 100 lists, each with 500 dicts, corresponding to tau and generations respectively\n",
    "history_csv_file = '../data/history_data.csv'\n",
    "history_array = []\n",
    "history_array = read_history(history_array, history_csv_file)"
   ]
  },
  {
   "cell_type": "code",
   "execution_count": null,
   "id": "3103b873",
   "metadata": {},
   "outputs": [],
   "source": [
    "# Store important values\n",
    "Nc_values_3d = np.zeros((generations, tau_values))\n",
    "Nc_values_3d_smoothed = np.zeros((generations, tau_values))\n",
    "Nc_derivative_3d = np.zeros((generations, tau_values))\n",
    "Nc_derivative_3d_smoothed = np.zeros((generations, tau_values))\n",
    "\n",
    "# Populate the Nc values and their derivatives for the 3D plot\n",
    "for i, tau in enumerate(range(tau_values)):\n",
    "    for j, generation in enumerate(range(generations)):\n",
    "        Nc_values_3d[j, i] = history_array[tau][generation]['Nc']\n",
    "    # Compute the derivative of Nc with respect to generations\n",
    "    Nc_derivative_3d[:, i] = np.gradient(Nc_values_3d[:, i].astype(int))"
   ]
  },
  {
   "cell_type": "code",
   "execution_count": null,
   "id": "ba0565e2",
   "metadata": {},
   "outputs": [],
   "source": [
    "# Parameters for Savitzky-Golay filter\n",
    "window_length = 51  # Size of the filtering window\n",
    "polyorder = 5     # The order of the polynomial used to fit the samples\n",
    "\n",
    "# Apply the Savitzky-Golay filter to each curve\n",
    "for i in range(Nc_values_3d.shape[1]):\n",
    "    Nc_values_3d_smoothed[:, i] = savgol_filter(Nc_values_3d[:, i], window_length, polyorder)\n",
    "    Nc_derivative_3d_smoothed[:, i] = savgol_filter(Nc_derivative_3d[:, i], window_length, polyorder)"
   ]
  },
  {
   "cell_type": "markdown",
   "id": "46640a91",
   "metadata": {},
   "source": [
    "### Method 1: Plot critical points of f(x) = Nc vs Generations against Bifurcation Parameter 'Tau'"
   ]
  },
  {
   "cell_type": "code",
   "execution_count": null,
   "id": "464d634d",
   "metadata": {},
   "outputs": [],
   "source": [
    "critical_points_by_tau = []\n",
    "taus = []\n",
    "final_value = []\n",
    "\n",
    "for tau in range(0, 100):\n",
    "    Nc_data = np.array([history_array[tau][i]['Nc'] for i in range(generations)]).astype(int)\n",
    "    \n",
    "    peaks, _ = find_peaks(Nc_data, prominence=1)\n",
    "    peaks_values = Nc_data[peaks]\n",
    "    troughs, _ = find_peaks(-Nc_data, prominence=1)\n",
    "    troughs_values = Nc_data[troughs]\n",
    "    final_value.append(Nc_data[-1])\n",
    "    combined_values = np.concatenate((peaks_values, troughs_values))\n",
    "    critical_points_by_tau.append(combined_values)\n",
    "    taus.append(tau)\n",
    "\n",
    "for tau in range(0, 100):\n",
    "    y_values = critical_points_by_tau[tau]\n",
    "    if y_values.size == 0:\n",
    "        y_values = [final_value[tau]]\n",
    "    x_values = [tau] * len(y_values)\n",
    "    \n",
    "    plt.scatter(x_values, y_values, s = 1)\n",
    "    \n",
    "plt.title('Bifurcation Plot')\n",
    "plt.xlabel('Tau')\n",
    "plt.ylabel('Critical Points')\n",
    "plt.show()"
   ]
  },
  {
   "cell_type": "markdown",
   "id": "fffbb168",
   "metadata": {},
   "source": [
    "### Method 2: Plot phase-space (using derivative) against tau"
   ]
  },
  {
   "cell_type": "code",
   "execution_count": null,
   "id": "336995ea",
   "metadata": {},
   "outputs": [],
   "source": [
    "fig = plt.figure(figsize=(15, 11), dpi=300)\n",
    "ax = fig.add_subplot(111, projection='3d')\n",
    "\n",
    "# Plot the smoothed data\n",
    "for i, tau in enumerate(range(0,tau_values)):\n",
    "    ax.plot([tau] * generations, Nc_values_3d_smoothed[:, tau], Nc_derivative_3d_smoothed[:, tau], label=f'Tau = {tau}')\n",
    "\n",
    "# Set labels for the axes\n",
    "ax.set_xlabel(r'$\\tau$')\n",
    "ax.set_ylabel(r'$N_c$')\n",
    "ax.set_zlabel(r'$\\frac{dN_c}{dGenerations}$')\n",
    "ax.xaxis.labelpad=25\n",
    "ax.yaxis.labelpad=25\n",
    "ax.zaxis.labelpad=25\n",
    "ax.set_title(r'Phase space plot of $N_C$ for Various Values of $\\tau$')\n",
    "\n",
    "# Show the 3D plot\n",
    "plt.show()"
   ]
  },
  {
   "cell_type": "code",
   "execution_count": null,
   "id": "03015fbe",
   "metadata": {},
   "outputs": [],
   "source": [
    "rcParams['font.size']=20\n",
    "\n",
    "fig = plt.figure(figsize=(15, 11), dpi=300)\n",
    "ax = fig.add_subplot(111, projection='3d')\n",
    "\n",
    "colormap = sns.color_palette('husl', 6)\n",
    "\n",
    "# Plot a selected range\n",
    "selected_range = list(range(0,30,5))\n",
    "for i, tau in enumerate(selected_range):\n",
    "    for j in range(generations-1):\n",
    "        ax.plot([tau]*2, Nc_values_3d_smoothed[:, tau][j:j+2], Nc_derivative_3d_smoothed[:, tau][j:j+2], color=colormap[i],alpha=(0.1+(0.9*float(j)/(generations))), label=f'Tau = {tau}')\n",
    "\n",
    "# Set labels for the axes\n",
    "ax.set_xlabel(r'$\\tau$')\n",
    "ax.set_ylabel(r'$N_c$')\n",
    "ax.set_zlabel(r'$\\frac{dN_c}{dGenerations}$')\n",
    "ax.xaxis.labelpad=25\n",
    "ax.yaxis.labelpad=25\n",
    "ax.zaxis.labelpad=25\n",
    "ax.set_title(r'Phase space plot of $N_C$ for Various Values of $\\tau$')"
   ]
  },
  {
   "cell_type": "code",
   "execution_count": null,
   "id": "123f4bd7",
   "metadata": {},
   "outputs": [],
   "source": [
    "rcParams['font.size']=20\n",
    "fig = plt.figure(figsize=(15, 11), dpi=300)\n",
    "ax = fig.add_subplot(111, projection='3d')\n",
    "\n",
    "# Plot a selected range\n",
    "selected_range = list(range(30,40,2))\n",
    "for i, tau in enumerate(selected_range):\n",
    "    for j in range(generation-1):\n",
    "        ax.plot([tau] * 2, Nc_values_3d_smoothed[:, tau][j:j+2], Nc_derivative_3d_smoothed[:, tau][j:j+2],color=colormap[i],alpha=(0.4+(0.6*float(j)/(generations))), label=f'Tau = {tau}')\n",
    "\n",
    "# Set labels for the axes\n",
    "ax.set_xticklabels([30,32,34,36,38])\n",
    "ax.set_xticks([30,32,34,36,38])\n",
    "ax.set_xlabel(r'$\\tau$')\n",
    "ax.set_ylabel(r'$N_c$')\n",
    "ax.set_zlabel(r'$\\frac{dN_c}{dGenerations}$')\n",
    "ax.xaxis.labelpad=25\n",
    "ax.yaxis.labelpad=25\n",
    "ax.zaxis.labelpad=25\n",
    "ax.set_title(r'Phase space plot of $N_c$ for Various Values of $\\tau$')\n"
   ]
  },
  {
   "cell_type": "markdown",
   "id": "977535c1",
   "metadata": {},
   "source": [
    "### Interactive plot for further analysis"
   ]
  },
  {
   "cell_type": "code",
   "execution_count": null,
   "id": "2f874f03",
   "metadata": {},
   "outputs": [],
   "source": [
    "# Create traces for each tau value\n",
    "traces = []\n",
    "for i, tau in enumerate(range(tau_values)):\n",
    "    trace = go.Scatter3d(\n",
    "        x=[tau] * generations,       # Tau values along the x-axis\n",
    "        y=Nc_values_3d[:, i],        # Nc values along the y-axis\n",
    "        z=Nc_derivative_3d[:, i],    # Derivative values along the z-axis\n",
    "        mode='lines',\n",
    "        name=f'Tau = {tau}'\n",
    "    )\n",
    "    traces.append(trace)\n",
    "\n",
    "# Define layout\n",
    "layout = go.Layout(\n",
    "    title='3D Plot of Nc and its Derivative over Generations',\n",
    "    scene=dict(\n",
    "        xaxis_title='Tau',\n",
    "        yaxis_title='Nc (Number of Cancer Cells)',\n",
    "        zaxis_title='dNc/dGenerations'\n",
    "    ),\n",
    "    margin=dict(l=0, r=0, b=0, t=0)  # Tight layout\n",
    ")\n",
    "\n",
    "fig = go.Figure(data=traces, layout=layout)\n",
    "fig.show()\n"
   ]
  },
  {
   "cell_type": "code",
   "execution_count": null,
   "id": "6c4a226f",
   "metadata": {},
   "outputs": [],
   "source": [
    "plt.figure(figsize=(14, 8))\n",
    "\n",
    "# Plot Nc for the selected tau values\n",
    "for tau in range(33,39):\n",
    "    Nc_values = np.array([history_array[tau][g]['Nc'] for g in range(generations)]).astype(int)\n",
    "    plt.plot(range(generations), Nc_values, label=f'Tau = {tau}')\n",
    "\n",
    "plt.xlabel('Generations')\n",
    "plt.ylabel('Nc (Number of Cancer Cells)')\n",
    "plt.title('Nc over Generations for Various Values of Tau')\n",
    "plt.legend()\n",
    "plt.show()\n"
   ]
  },
  {
   "cell_type": "markdown",
   "id": "5fa0b255",
   "metadata": {},
   "source": [
    "### Method 3: Use time delay embedding instead of derivative"
   ]
  },
  {
   "cell_type": "code",
   "execution_count": null,
   "id": "0a66788a",
   "metadata": {},
   "outputs": [],
   "source": [
    "# Store important values\n",
    "Nc_values_3d = np.zeros((generations, tau_values))\n",
    "\n",
    "# Populate the Nc values for the 3D plot\n",
    "for i, tau in enumerate(range(tau_values)):\n",
    "    for j, generation in enumerate(range(generations)):\n",
    "        Nc_values_3d[j, i] = history_array[tau][generation]['Nc']\n",
    "\n",
    "# Choose embedding dimension (2 for a 2D phase space plot)\n",
    "embedding_dim = 2\n",
    "fig = plt.figure(figsize=(10, 8))\n",
    "ax = fig.add_subplot(111, projection='3d')\n",
    "\n",
    "# Create phase space plots for each tau\n",
    "for tau in range(80, tau_values):\n",
    "    # Ensure there's enough data for the given tau\n",
    "    if tau < generations - 1:\n",
    "        # Reconstruct the phase space for this tau\n",
    "        time_series = Nc_values_3d[:, tau]\n",
    "\n",
    "        # Adjust the slicing to ensure equal length arrays\n",
    "        if len(time_series) > 2 * tau:\n",
    "            phase_space = np.array([time_series[tau:-tau], time_series[2*tau:]])\n",
    "            phase_space = phase_space.T\n",
    "\n",
    "            # Creating an array for tau to match the dimensions of the phase space points\n",
    "            tau_array = np.full(len(phase_space), tau)\n",
    "\n",
    "            ax.plot(tau_array, phase_space[:, 0], phase_space[:, 1], '.-')\n",
    "\n",
    "ax.set_title('3D Phase Space Plot with Tau on x-axis')\n",
    "ax.set_xlabel('Tau')\n",
    "ax.set_ylabel('Nc(t)')\n",
    "ax.set_zlabel('Nc(t + tau)')\n",
    "plt.show()\n"
   ]
  }
 ],
 "metadata": {
  "kernelspec": {
   "display_name": "Python 3 (ipykernel)",
   "language": "python",
   "name": "python3"
  },
  "language_info": {
   "codemirror_mode": {
    "name": "ipython",
    "version": 3
   },
   "file_extension": ".py",
   "mimetype": "text/x-python",
   "name": "python",
   "nbconvert_exporter": "python",
   "pygments_lexer": "ipython3",
   "version": "3.9.12"
  }
 },
 "nbformat": 4,
 "nbformat_minor": 5
}
