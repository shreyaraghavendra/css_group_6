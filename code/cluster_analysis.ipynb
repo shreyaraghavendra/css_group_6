{
 "cells": [
  {
   "cell_type": "code",
   "execution_count": null,
   "metadata": {},
   "outputs": [],
   "source": [
    "from functions.ca_model import *\n",
    "from functions.read_data import *\n",
    "from functions.analyze import *\n",
    "import zipfile\n",
    "import json\n",
    "import seaborn as sns\n",
    "import numpy as np\n",
    "import matplotlib.pyplot as plt\n",
    "from matplotlib import rcParams\n",
    "import pickle\n",
    "import numpy as np\n",
    "import matplotlib.pyplot as plt\n",
    "import pandas as pd\n",
    "import random"
   ]
  },
  {
   "cell_type": "code",
   "execution_count": null,
   "metadata": {},
   "outputs": [],
   "source": [
    "ROWS = COLS = 101\n",
    "GENERATIONS = 500"
   ]
  },
  {
   "cell_type": "code",
   "execution_count": null,
   "metadata": {},
   "outputs": [],
   "source": [
    "history_csv_file = '../data/history_data.csv'\n",
    "history_array = []\n",
    "history_array = read_history(history_array, history_csv_file)\n",
    "\n",
    "\"\"\"\n",
    "Time-step matrices are stored in a zip. \n",
    "To unzip, uncomment the following lines of code.\n",
    "\"\"\"\n",
    "# # define file path and folder to extract in\n",
    "# matrix_zip_path = '../data/matrices_data.zip'\n",
    "# extraction_folder = '../data/'\n",
    "\n",
    "# with zipfile.ZipFile(matrix_zip_path, 'r') as zip_ref:\n",
    "#     # Extract all the contents into the target directory\n",
    "#     zip_ref.extractall(extraction_folder)\n",
    "\n",
    "matrices_csv_file = '../data/matrices_data.csv'\n",
    "all_M = read_matrix(ROWS, COLS, GENERATIONS, matrices_csv_file)"
   ]
  },
  {
   "cell_type": "markdown",
   "metadata": {},
   "source": [
    "## 1. Time to Metastasis vs K1 and K2"
   ]
  },
  {
   "cell_type": "code",
   "execution_count": null,
   "metadata": {},
   "outputs": [],
   "source": [
    "K1_values = np.arange(0.2, 0.9, (0.9-0.2)/50)\n",
    "K2_values = np.arange(0.2, 0.4, (0.4-0.2)/50)"
   ]
  },
  {
   "cell_type": "code",
   "execution_count": null,
   "metadata": {},
   "outputs": [],
   "source": [
    "rcParams['font.family'] = 'serif'\n",
    "rcParams['font.size'] = 12\n",
    "\n",
    "pickle_file_path = '../data/generation_above_50cluster_k2s.pkl'\n",
    "\n",
    "with open(pickle_file_path, 'rb') as file:\n",
    "    data = pickle.load(file)\n",
    "\n",
    "time_array = np.array(data)\n",
    "time_array = np.array([[float(entry) if entry is not None else np.nan for entry in row] for row in time_array])"
   ]
  },
  {
   "cell_type": "code",
   "execution_count": null,
   "metadata": {},
   "outputs": [],
   "source": [
    "fig, ax = plt.subplots()\n",
    "im = ax.imshow(time_array, cmap='inferno_r', interpolation='none', aspect='auto', origin='lower', alpha=0.7)\n",
    "\n",
    "cbar = plt.colorbar(im, ax=ax)\n",
    "cbar.set_label(r'Initial time to metastasis - $\\eta$ > 50')\n",
    "\n",
    "ax.set_xlabel('k1')\n",
    "ax.set_ylabel('k2')\n",
    "ax.set_xticks(np.arange(len(K1_values)))\n",
    "ax.set_yticks(np.arange(len(K2_values)))\n",
    "ax.set_xticklabels([f'{k:.2f}' for k in K1_values])\n",
    "ax.set_yticklabels([f'{k:.2f}' for k in K2_values])\n",
    "\n",
    "# Ensure that every tick label is displayed\n",
    "ax.xaxis.set_major_locator(plt.MaxNLocator(integer=True))\n",
    "ax.yaxis.set_major_locator(plt.MaxNLocator(integer=True))\n",
    "\n",
    "ax.set_title('Time to metastasis')\n",
    "\n",
    "plt.show()\n"
   ]
  },
  {
   "cell_type": "code",
   "execution_count": null,
   "metadata": {},
   "outputs": [],
   "source": [
    "gradient_palette = sns.color_palette('rocket_r',len(K2_values))\n",
    "\n",
    "fig, ax = plt.subplots()\n",
    "# Plot lines for each k2 value\n",
    "for k2_index, k2_value in enumerate(K2_values):\n",
    "    selected_time_values = time_array[k2_index]\n",
    "    ax.plot(K1_values, selected_time_values, color=gradient_palette[k2_index], label=f'k2 = {k2_value:.2f}')\n",
    "\n",
    "ax.set_xlabel(r'$k_1$')\n",
    "ax.set_ylabel('Time to Metastasis')\n",
    "ax.set_xticks(np.arange(0.2, 0.9, 0.1))\n",
    "ax.set_yticks(np.arange(0,500,50))\n",
    "ax.set_title(r'Time to Metastasis vs $k_1$ for all $k_2$')\n",
    "ax.grid(True) # grid for better readability\n",
    "\n",
    "plt.show()\n"
   ]
  },
  {
   "cell_type": "markdown",
   "metadata": {},
   "source": [
    "## 2. Finite Size Scaling"
   ]
  },
  {
   "cell_type": "code",
   "execution_count": null,
   "metadata": {},
   "outputs": [],
   "source": [
    "\"\"\"\n",
    "This cell takes longer than 30 mins to run.\n",
    "A shorter simulation can be run by taking the following ranges for parameters:\n",
    "system size:    range(100,301,100)\n",
    "k1:             np.arange(0,1,0.2)\n",
    "\"\"\"\n",
    "\n",
    "# Now call this function inside your loop\n",
    "clusters = {}\n",
    "time_to_metastasis = {}\n",
    "\n",
    "# Loop over each system size and K1\n",
    "for system_size in range(100, 501, 100):\n",
    "    rows = cols = system_size  # Assuming a square grid\n",
    "    clusters[system_size] = {}\n",
    "    time_to_metastasis[system_size] = {}\n",
    "    \n",
    "    for K1 in np.arange(0, 1, 0.1):\n",
    "        cluster_at_each_gen, Tm = simulate_and_find_metastasis(400, system_size, system_size, K1, 0.3)\n",
    "        clusters[system_size][K1] = cluster_at_each_gen\n",
    "        time_to_metastasis[system_size][K1] = Tm\n",
    "            \n",
    "        print (\"Size:\", system_size, \"k1 :\", K1, \"done\")\n",
    "        "
   ]
  },
  {
   "cell_type": "code",
   "execution_count": null,
   "metadata": {},
   "outputs": [],
   "source": [
    "plt.figure(figsize=(10, 6))\n",
    "\n",
    "# Plotting each system size\n",
    "for system_size in time_to_metastasis:\n",
    "    # Extracting k1 values and corresponding Tm for this system size\n",
    "    k1_values = list(time_to_metastasis[system_size].keys())\n",
    "    Tm_values = list(time_to_metastasis[system_size].values())\n",
    "\n",
    "    # Plotting the line for this system size\n",
    "    plt.plot(k1_values, Tm_values, label=f'Size: {system_size}')\n",
    "\n",
    "plt.xlabel('k1 value')\n",
    "plt.ylabel('Time to Metastasis (Tm)')\n",
    "plt.title('Time to Metastasis vs k1 for Different System Sizes')\n",
    "plt.legend()\n",
    "plt.show()"
   ]
  },
  {
   "cell_type": "code",
   "execution_count": null,
   "metadata": {},
   "outputs": [],
   "source": [
    "# Saving a dictionary as JSON\n",
    "with open('data/time_to_metastasis.json', 'w') as f:\n",
    "    json.dump(time_to_metastasis, f)\n",
    "\n",
    "with open('data/clusters.json', 'w') as f:\n",
    "    json.dump(clusters, f)"
   ]
  },
  {
   "cell_type": "code",
   "execution_count": null,
   "metadata": {},
   "outputs": [],
   "source": [
    "# Helper function to compute the second derivative using a central finite difference method\n",
    "def second_derivative(y, x):\n",
    "    dy = np.gradient(y, x)\n",
    "    d2y = np.gradient(dy, x)\n",
    "    return d2y\n",
    "\n",
    "# Prepare the plot\n",
    "plt.figure(figsize=(10, 6))\n",
    "\n",
    "# Loop through each system size\n",
    "for system_size, k1_dict in clusters.items():\n",
    "    k1_values = np.array(sorted(k1_dict.keys()))\n",
    "    mean_cluster_counts = np.array([np.mean(k1_dict[k1]) for k1 in k1_values])\n",
    "\n",
    "    # Calculate second derivative of cluster counts\n",
    "    sec_deriv_cluster_counts = second_derivative(mean_cluster_counts, k1_values)\n",
    "\n",
    "    # Plot the mean cluster count for each k1 value\n",
    "    plt.plot(k1_values, mean_cluster_counts, label=f'System Size: {system_size}')\n",
    "\n",
    "    # Find indices where the second derivative changes sign (zero-crossings)\n",
    "    zero_crossings = np.where(np.diff(np.sign(sec_deriv_cluster_counts)))[0]\n",
    "    \n",
    "    # Plot the zero-crossing points\n",
    "    for zc in zero_crossings:\n",
    "        # Ensure we don't go out of index bounds due to differentiation\n",
    "        if zc < len(k1_values) - 1:\n",
    "            plt.plot(k1_values[zc], mean_cluster_counts[zc], 'o', label=f'Inflection Point for Size {system_size}')\n",
    "\n",
    "# Add axis labels and a title\n",
    "plt.xlabel('k1 value (Control Parameter)')\n",
    "plt.ylabel('Average Number of Clusters (Order Parameter)')\n",
    "plt.title('Average Number of Clusters vs k1 for Different System Sizes')\n",
    "plt.legend()\n",
    "\n",
    "# Show the plot\n",
    "plt.show()\n"
   ]
  },
  {
   "cell_type": "code",
   "execution_count": null,
   "metadata": {},
   "outputs": [],
   "source": []
  }
 ],
 "metadata": {
  "kernelspec": {
   "display_name": "Python 3 (ipykernel)",
   "language": "python",
   "name": "python3"
  },
  "language_info": {
   "codemirror_mode": {
    "name": "ipython",
    "version": 3
   },
   "file_extension": ".py",
   "mimetype": "text/x-python",
   "name": "python",
   "nbconvert_exporter": "python",
   "pygments_lexer": "ipython3",
   "version": "3.9.12"
  }
 },
 "nbformat": 4,
 "nbformat_minor": 2
}
